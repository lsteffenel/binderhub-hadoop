{
 "cells": [
  {
   "cell_type": "markdown",
   "metadata": {},
   "source": [
    "## Downloading Hadoop"
   ]
  },
  {
   "cell_type": "code",
   "execution_count": 1,
   "metadata": {},
   "outputs": [
    {
     "name": "stdout",
     "output_type": "stream",
     "text": [
      "env: HADOOP_VERSION=3.1.2\n",
      "env: HADOOP_PATH=hadoop-3.1.2\n"
     ]
    }
   ],
   "source": [
    "%env HADOOP_VERSION     3.1.2\n",
    "%env HADOOP_PATH hadoop-3.1.2"
   ]
  },
  {
   "cell_type": "code",
   "execution_count": 2,
   "metadata": {},
   "outputs": [
    {
     "name": "stdout",
     "output_type": "stream",
     "text": [
      "hadoop-3.1.2.tar.gz 100%[===================>] 317.03M  19.9MB/s    in 18s     \n"
     ]
    }
   ],
   "source": [
    "!wget http://ftp.unicamp.br/pub/apache/hadoop/common/hadoop-${HADOOP_VERSION}/hadoop-${HADOOP_VERSION}.tar.gz -q --show-progress"
   ]
  },
  {
   "cell_type": "markdown",
   "metadata": {},
   "source": [
    "### Extracting compressed files and removing .tar"
   ]
  },
  {
   "cell_type": "code",
   "execution_count": 3,
   "metadata": {},
   "outputs": [],
   "source": [
    "!tar -xvf hadoop-${HADOOP_VERSION}.tar.gz >/dev/null \n",
    "!rm       hadoop-${HADOOP_VERSION}.tar.gz"
   ]
  },
  {
   "cell_type": "markdown",
   "metadata": {},
   "source": [
    "### Discovering Java path"
   ]
  },
  {
   "cell_type": "code",
   "execution_count": 4,
   "metadata": {},
   "outputs": [
    {
     "name": "stdout",
     "output_type": "stream",
     "text": [
      "/usr/lib/jvm/java-8-openjdk-amd64\n"
     ]
    }
   ],
   "source": [
    "!dirname $(dirname $(readlink -f $(which javac)))"
   ]
  },
  {
   "cell_type": "markdown",
   "metadata": {},
   "source": [
    "### Setting Java path envvar\n",
    "\n",
    "We also added it to user's .bashrc so it will be loaded as the nodes perform ssh connections."
   ]
  },
  {
   "cell_type": "code",
   "execution_count": 5,
   "metadata": {},
   "outputs": [
    {
     "name": "stdout",
     "output_type": "stream",
     "text": [
      "env: JAVA_HOME=/usr/lib/jvm/java-8-openjdk-amd64\n"
     ]
    }
   ],
   "source": [
    "%env JAVA_HOME /usr/lib/jvm/java-8-openjdk-amd64"
   ]
  },
  {
   "cell_type": "code",
   "execution_count": 6,
   "metadata": {},
   "outputs": [],
   "source": [
    "!echo \"export JAVA_HOME=/usr/lib/jvm/java-8-openjdk-amd64 \" > .bashrc"
   ]
  },
  {
   "cell_type": "markdown",
   "metadata": {},
   "source": [
    "# Using Hadoop in Standalone Mode (local)"
   ]
  },
  {
   "cell_type": "code",
   "execution_count": null,
   "metadata": {},
   "outputs": [],
   "source": []
  },
  {
   "cell_type": "markdown",
   "metadata": {},
   "source": [
    "# Using Hadoop in Pseudo-Distributed Mode"
   ]
  },
  {
   "cell_type": "markdown",
   "metadata": {},
   "source": [
    "### Starting sshd server\n",
    "\n",
    "Check postBuild and sshd_config files for more details"
   ]
  },
  {
   "cell_type": "code",
   "execution_count": 7,
   "metadata": {},
   "outputs": [],
   "source": [
    "!/usr/sbin/sshd -f resources/configs/ssh/sshd_config "
   ]
  },
  {
   "cell_type": "markdown",
   "metadata": {},
   "source": [
    "### Copying configurations files to Hadoop folder"
   ]
  },
  {
   "cell_type": "code",
   "execution_count": 20,
   "metadata": {},
   "outputs": [],
   "source": [
    "!cp resources/configs/hadoop/${HADOOP_VERSION}/* ${HADOOP_PATH}/etc/hadoop/"
   ]
  },
  {
   "cell_type": "markdown",
   "metadata": {},
   "source": [
    "### Formating the filesystem"
   ]
  },
  {
   "cell_type": "code",
   "execution_count": 21,
   "metadata": {},
   "outputs": [
    {
     "name": "stdout",
     "output_type": "stream",
     "text": [
      "WARNING: /home/jovyan/hadoop-3.1.2/logs does not exist. Creating.\n",
      "2019-07-07 01:12:11,447 INFO namenode.NameNode: STARTUP_MSG: \n",
      "/************************************************************\n",
      "STARTUP_MSG: Starting NameNode\n",
      "STARTUP_MSG:   host = jupyter-thedatasociety-2dbinderhub-2dhadoop-2d7t7j5qi7/10.12.14.122\n",
      "STARTUP_MSG:   args = [-format, -force, -nonInteractive]\n",
      "STARTUP_MSG:   version = 3.1.2\n",
      "STARTUP_MSG:   classpath = /home/jovyan/hadoop-3.1.2/etc/hadoop:/home/jovyan/hadoop-3.1.2/share/hadoop/common/lib/jackson-core-asl-1.9.13.jar:/home/jovyan/hadoop-3.1.2/share/hadoop/common/lib/jetty-server-9.3.24.v20180605.jar:/home/jovyan/hadoop-3.1.2/share/hadoop/common/lib/jersey-json-1.19.jar:/home/jovyan/hadoop-3.1.2/share/hadoop/common/lib/jackson-core-2.7.8.jar:/home/jovyan/hadoop-3.1.2/share/hadoop/common/lib/commons-lang-2.6.jar:/home/jovyan/hadoop-3.1.2/share/hadoop/common/lib/kerby-util-1.0.1.jar:/home/jovyan/hadoop-3.1.2/share/hadoop/common/lib/nimbus-jose-jwt-4.41.1.jar:/home/jovyan/hadoop-3.1.2/share/hadoop/common/lib/jul-to-slf4j-1.7.25.jar:/home/jovyan/hadoop-3.1.2/share/hadoop/common/lib/kerby-xdr-1.0.1.jar:/home/jovyan/hadoop-3.1.2/share/hadoop/common/lib/hadoop-auth-3.1.2.jar:/home/jovyan/hadoop-3.1.2/share/hadoop/common/lib/kerb-admin-1.0.1.jar:/home/jovyan/hadoop-3.1.2/share/hadoop/common/lib/slf4j-api-1.7.25.jar:/home/jovyan/hadoop-3.1.2/share/hadoop/common/lib/netty-3.10.5.Final.jar:/home/jovyan/hadoop-3.1.2/share/hadoop/common/lib/jetty-xml-9.3.24.v20180605.jar:/home/jovyan/hadoop-3.1.2/share/hadoop/common/lib/jackson-databind-2.7.8.jar:/home/jovyan/hadoop-3.1.2/share/hadoop/common/lib/jsch-0.1.54.jar:/home/jovyan/hadoop-3.1.2/share/hadoop/common/lib/kerby-pkix-1.0.1.jar:/home/jovyan/hadoop-3.1.2/share/hadoop/common/lib/guava-11.0.2.jar:/home/jovyan/hadoop-3.1.2/share/hadoop/common/lib/commons-cli-1.2.jar:/home/jovyan/hadoop-3.1.2/share/hadoop/common/lib/commons-codec-1.11.jar:/home/jovyan/hadoop-3.1.2/share/hadoop/common/lib/kerby-asn1-1.0.1.jar:/home/jovyan/hadoop-3.1.2/share/hadoop/common/lib/zookeeper-3.4.13.jar:/home/jovyan/hadoop-3.1.2/share/hadoop/common/lib/paranamer-2.3.jar:/home/jovyan/hadoop-3.1.2/share/hadoop/common/lib/metrics-core-3.2.4.jar:/home/jovyan/hadoop-3.1.2/share/hadoop/common/lib/audience-annotations-0.5.0.jar:/home/jovyan/hadoop-3.1.2/share/hadoop/common/lib/woodstox-core-5.0.3.jar:/home/jovyan/hadoop-3.1.2/share/hadoop/common/lib/jetty-webapp-9.3.24.v20180605.jar:/home/jovyan/hadoop-3.1.2/share/hadoop/common/lib/kerb-simplekdc-1.0.1.jar:/home/jovyan/hadoop-3.1.2/share/hadoop/common/lib/kerby-config-1.0.1.jar:/home/jovyan/hadoop-3.1.2/share/hadoop/common/lib/asm-5.0.4.jar:/home/jovyan/hadoop-3.1.2/share/hadoop/common/lib/re2j-1.1.jar:/home/jovyan/hadoop-3.1.2/share/hadoop/common/lib/jetty-io-9.3.24.v20180605.jar:/home/jovyan/hadoop-3.1.2/share/hadoop/common/lib/kerb-util-1.0.1.jar:/home/jovyan/hadoop-3.1.2/share/hadoop/common/lib/javax.servlet-api-3.1.0.jar:/home/jovyan/hadoop-3.1.2/share/hadoop/common/lib/jetty-http-9.3.24.v20180605.jar:/home/jovyan/hadoop-3.1.2/share/hadoop/common/lib/commons-beanutils-1.9.3.jar:/home/jovyan/hadoop-3.1.2/share/hadoop/common/lib/jersey-servlet-1.19.jar:/home/jovyan/hadoop-3.1.2/share/hadoop/common/lib/kerb-identity-1.0.1.jar:/home/jovyan/hadoop-3.1.2/share/hadoop/common/lib/hadoop-annotations-3.1.2.jar:/home/jovyan/hadoop-3.1.2/share/hadoop/common/lib/commons-net-3.6.jar:/home/jovyan/hadoop-3.1.2/share/hadoop/common/lib/kerb-core-1.0.1.jar:/home/jovyan/hadoop-3.1.2/share/hadoop/common/lib/jsr311-api-1.1.1.jar:/home/jovyan/hadoop-3.1.2/share/hadoop/common/lib/jersey-server-1.19.jar:/home/jovyan/hadoop-3.1.2/share/hadoop/common/lib/snappy-java-1.0.5.jar:/home/jovyan/hadoop-3.1.2/share/hadoop/common/lib/curator-recipes-2.13.0.jar:/home/jovyan/hadoop-3.1.2/share/hadoop/common/lib/jetty-servlet-9.3.24.v20180605.jar:/home/jovyan/hadoop-3.1.2/share/hadoop/common/lib/json-smart-2.3.jar:/home/jovyan/hadoop-3.1.2/share/hadoop/common/lib/log4j-1.2.17.jar:/home/jovyan/hadoop-3.1.2/share/hadoop/common/lib/jackson-xc-1.9.13.jar:/home/jovyan/hadoop-3.1.2/share/hadoop/common/lib/gson-2.2.4.jar:/home/jovyan/hadoop-3.1.2/share/hadoop/common/lib/jaxb-impl-2.2.3-1.jar:/home/jovyan/hadoop-3.1.2/share/hadoop/common/lib/jaxb-api-2.2.11.jar:/home/jovyan/hadoop-3.1.2/share/hadoop/common/lib/curator-client-2.13.0.jar:/home/jovyan/hadoop-3.1.2/share/hadoop/common/lib/jackson-jaxrs-1.9.13.jar:/home/jovyan/hadoop-3.1.2/share/hadoop/common/lib/kerb-client-1.0.1.jar:/home/jovyan/hadoop-3.1.2/share/hadoop/common/lib/kerb-crypto-1.0.1.jar:/home/jovyan/hadoop-3.1.2/share/hadoop/common/lib/jsp-api-2.1.jar:/home/jovyan/hadoop-3.1.2/share/hadoop/common/lib/httpcore-4.4.4.jar:/home/jovyan/hadoop-3.1.2/share/hadoop/common/lib/commons-math3-3.1.1.jar:/home/jovyan/hadoop-3.1.2/share/hadoop/common/lib/jackson-mapper-asl-1.9.13.jar:/home/jovyan/hadoop-3.1.2/share/hadoop/common/lib/jetty-util-9.3.24.v20180605.jar:/home/jovyan/hadoop-3.1.2/share/hadoop/common/lib/kerb-common-1.0.1.jar:/home/jovyan/hadoop-3.1.2/share/hadoop/common/lib/commons-logging-1.1.3.jar:/home/jovyan/hadoop-3.1.2/share/hadoop/common/lib/token-provider-1.0.1.jar:/home/jovyan/hadoop-3.1.2/share/hadoop/common/lib/commons-configuration2-2.1.1.jar:/home/jovyan/hadoop-3.1.2/share/hadoop/common/lib/commons-io-2.5.jar:/home/jovyan/hadoop-3.1.2/share/hadoop/common/lib/htrace-core4-4.1.0-incubating.jar:/home/jovyan/hadoop-3.1.2/share/hadoop/common/lib/slf4j-log4j12-1.7.25.jar:/home/jovyan/hadoop-3.1.2/share/hadoop/common/lib/jetty-security-9.3.24.v20180605.jar:/home/jovyan/hadoop-3.1.2/share/hadoop/common/lib/commons-lang3-3.4.jar:/home/jovyan/hadoop-3.1.2/share/hadoop/common/lib/jackson-annotations-2.7.8.jar:/home/jovyan/hadoop-3.1.2/share/hadoop/common/lib/kerb-server-1.0.1.jar:/home/jovyan/hadoop-3.1.2/share/hadoop/common/lib/commons-collections-3.2.2.jar:/home/jovyan/hadoop-3.1.2/share/hadoop/common/lib/jettison-1.1.jar:/home/jovyan/hadoop-3.1.2/share/hadoop/common/lib/jersey-core-1.19.jar:/home/jovyan/hadoop-3.1.2/share/hadoop/common/lib/jcip-annotations-1.0-1.jar:/home/jovyan/hadoop-3.1.2/share/hadoop/common/lib/curator-framework-2.13.0.jar:/home/jovyan/hadoop-3.1.2/share/hadoop/common/lib/accessors-smart-1.2.jar:/home/jovyan/hadoop-3.1.2/share/hadoop/common/lib/stax2-api-3.1.4.jar:/home/jovyan/hadoop-3.1.2/share/hadoop/common/lib/jsr305-3.0.0.jar:/home/jovyan/hadoop-3.1.2/share/hadoop/common/lib/httpclient-4.5.2.jar:/home/jovyan/hadoop-3.1.2/share/hadoop/common/lib/avro-1.7.7.jar:/home/jovyan/hadoop-3.1.2/share/hadoop/common/lib/commons-compress-1.18.jar:/home/jovyan/hadoop-3.1.2/share/hadoop/common/lib/protobuf-java-2.5.0.jar:/home/jovyan/hadoop-3.1.2/share/hadoop/common/hadoop-nfs-3.1.2.jar:/home/jovyan/hadoop-3.1.2/share/hadoop/common/hadoop-common-3.1.2-tests.jar:/home/jovyan/hadoop-3.1.2/share/hadoop/common/hadoop-kms-3.1.2.jar:/home/jovyan/hadoop-3.1.2/share/hadoop/common/hadoop-common-3.1.2.jar:/home/jovyan/hadoop-3.1.2/share/hadoop/hdfs:/home/jovyan/hadoop-3.1.2/share/hadoop/hdfs/lib/jackson-core-asl-1.9.13.jar:/home/jovyan/hadoop-3.1.2/share/hadoop/hdfs/lib/jetty-server-9.3.24.v20180605.jar:/home/jovyan/hadoop-3.1.2/share/hadoop/hdfs/lib/jersey-json-1.19.jar:/home/jovyan/hadoop-3.1.2/share/hadoop/hdfs/lib/jackson-core-2.7.8.jar:/home/jovyan/hadoop-3.1.2/share/hadoop/hdfs/lib/commons-lang-2.6.jar:/home/jovyan/hadoop-3.1.2/share/hadoop/hdfs/lib/kerby-util-1.0.1.jar:/home/jovyan/hadoop-3.1.2/share/hadoop/hdfs/lib/okhttp-2.7.5.jar:/home/jovyan/hadoop-3.1.2/share/hadoop/hdfs/lib/nimbus-jose-jwt-4.41.1.jar:/home/jovyan/hadoop-3.1.2/share/hadoop/hdfs/lib/kerby-xdr-1.0.1.jar:/home/jovyan/hadoop-3.1.2/share/hadoop/hdfs/lib/hadoop-auth-3.1.2.jar:/home/jovyan/hadoop-3.1.2/share/hadoop/hdfs/lib/okio-1.6.0.jar:/home/jovyan/hadoop-3.1.2/share/hadoop/hdfs/lib/kerb-admin-1.0.1.jar:/home/jovyan/hadoop-3.1.2/share/hadoop/hdfs/lib/netty-3.10.5.Final.jar:/home/jovyan/hadoop-3.1.2/share/hadoop/hdfs/lib/jetty-xml-9.3.24.v20180605.jar:/home/jovyan/hadoop-3.1.2/share/hadoop/hdfs/lib/jackson-databind-2.7.8.jar:/home/jovyan/hadoop-3.1.2/share/hadoop/hdfs/lib/jsch-0.1.54.jar:/home/jovyan/hadoop-3.1.2/share/hadoop/hdfs/lib/kerby-pkix-1.0.1.jar:/home/jovyan/hadoop-3.1.2/share/hadoop/hdfs/lib/guava-11.0.2.jar:/home/jovyan/hadoop-3.1.2/share/hadoop/hdfs/lib/commons-cli-1.2.jar:/home/jovyan/hadoop-3.1.2/share/hadoop/hdfs/lib/commons-codec-1.11.jar:/home/jovyan/hadoop-3.1.2/share/hadoop/hdfs/lib/kerby-asn1-1.0.1.jar:/home/jovyan/hadoop-3.1.2/share/hadoop/hdfs/lib/zookeeper-3.4.13.jar:/home/jovyan/hadoop-3.1.2/share/hadoop/hdfs/lib/paranamer-2.3.jar:/home/jovyan/hadoop-3.1.2/share/hadoop/hdfs/lib/audience-annotations-0.5.0.jar:/home/jovyan/hadoop-3.1.2/share/hadoop/hdfs/lib/woodstox-core-5.0.3.jar:/home/jovyan/hadoop-3.1.2/share/hadoop/hdfs/lib/jetty-webapp-9.3.24.v20180605.jar:/home/jovyan/hadoop-3.1.2/share/hadoop/hdfs/lib/kerb-simplekdc-1.0.1.jar:/home/jovyan/hadoop-3.1.2/share/hadoop/hdfs/lib/json-simple-1.1.1.jar:/home/jovyan/hadoop-3.1.2/share/hadoop/hdfs/lib/kerby-config-1.0.1.jar:/home/jovyan/hadoop-3.1.2/share/hadoop/hdfs/lib/asm-5.0.4.jar:/home/jovyan/hadoop-3.1.2/share/hadoop/hdfs/lib/re2j-1.1.jar:/home/jovyan/hadoop-3.1.2/share/hadoop/hdfs/lib/jetty-io-9.3.24.v20180605.jar:/home/jovyan/hadoop-3.1.2/share/hadoop/hdfs/lib/jetty-util-ajax-9.3.24.v20180605.jar:/home/jovyan/hadoop-3.1.2/share/hadoop/hdfs/lib/kerb-util-1.0.1.jar:/home/jovyan/hadoop-3.1.2/share/hadoop/hdfs/lib/commons-daemon-1.0.13.jar:/home/jovyan/hadoop-3.1.2/share/hadoop/hdfs/lib/javax.servlet-api-3.1.0.jar:/home/jovyan/hadoop-3.1.2/share/hadoop/hdfs/lib/jetty-http-9.3.24.v20180605.jar:/home/jovyan/hadoop-3.1.2/share/hadoop/hdfs/lib/commons-beanutils-1.9.3.jar:/home/jovyan/hadoop-3.1.2/share/hadoop/hdfs/lib/jersey-servlet-1.19.jar:/home/jovyan/hadoop-3.1.2/share/hadoop/hdfs/lib/kerb-identity-1.0.1.jar:/home/jovyan/hadoop-3.1.2/share/hadoop/hdfs/lib/netty-all-4.0.52.Final.jar:/home/jovyan/hadoop-3.1.2/share/hadoop/hdfs/lib/hadoop-annotations-3.1.2.jar:/home/jovyan/hadoop-3.1.2/share/hadoop/hdfs/lib/commons-net-3.6.jar:/home/jovyan/hadoop-3.1.2/share/hadoop/hdfs/lib/kerb-core-1.0.1.jar:/home/jovyan/hadoop-3.1.2/share/hadoop/hdfs/lib/jsr311-api-1.1.1.jar:/home/jovyan/hadoop-3.1.2/share/hadoop/hdfs/lib/jersey-server-1.19.jar:/home/jovyan/hadoop-3.1.2/share/hadoop/hdfs/lib/snappy-java-1.0.5.jar:/home/jovyan/hadoop-3.1.2/share/hadoop/hdfs/lib/curator-recipes-2.13.0.jar:/home/jovyan/hadoop-3.1.2/share/hadoop/hdfs/lib/jetty-servlet-9.3.24.v20180605.jar:/home/jovyan/hadoop-3.1.2/share/hadoop/hdfs/lib/json-smart-2.3.jar:/home/jovyan/hadoop-3.1.2/share/hadoop/hdfs/lib/log4j-1.2.17.jar:/home/jovyan/hadoop-3.1.2/share/hadoop/hdfs/lib/jackson-xc-1.9.13.jar:/home/jovyan/hadoop-3.1.2/share/hadoop/hdfs/lib/gson-2.2.4.jar:/home/jovyan/hadoop-3.1.2/share/hadoop/hdfs/lib/jaxb-impl-2.2.3-1.jar:/home/jovyan/hadoop-3.1.2/share/hadoop/hdfs/lib/jaxb-api-2.2.11.jar:/home/jovyan/hadoop-3.1.2/share/hadoop/hdfs/lib/leveldbjni-all-1.8.jar:/home/jovyan/hadoop-3.1.2/share/hadoop/hdfs/lib/curator-client-2.13.0.jar:/home/jovyan/hadoop-3.1.2/share/hadoop/hdfs/lib/jackson-jaxrs-1.9.13.jar:/home/jovyan/hadoop-3.1.2/share/hadoop/hdfs/lib/kerb-client-1.0.1.jar:/home/jovyan/hadoop-3.1.2/share/hadoop/hdfs/lib/kerb-crypto-1.0.1.jar:/home/jovyan/hadoop-3.1.2/share/hadoop/hdfs/lib/httpcore-4.4.4.jar:/home/jovyan/hadoop-3.1.2/share/hadoop/hdfs/lib/commons-math3-3.1.1.jar:/home/jovyan/hadoop-3.1.2/share/hadoop/hdfs/lib/jackson-mapper-asl-1.9.13.jar:/home/jovyan/hadoop-3.1.2/share/hadoop/hdfs/lib/jetty-util-9.3.24.v20180605.jar:/home/jovyan/hadoop-3.1.2/share/hadoop/hdfs/lib/kerb-common-1.0.1.jar:/home/jovyan/hadoop-3.1.2/share/hadoop/hdfs/lib/commons-logging-1.1.3.jar:/home/jovyan/hadoop-3.1.2/share/hadoop/hdfs/lib/token-provider-1.0.1.jar:/home/jovyan/hadoop-3.1.2/share/hadoop/hdfs/lib/commons-configuration2-2.1.1.jar:/home/jovyan/hadoop-3.1.2/share/hadoop/hdfs/lib/commons-io-2.5.jar:/home/jovyan/hadoop-3.1.2/share/hadoop/hdfs/lib/htrace-core4-4.1.0-incubating.jar:/home/jovyan/hadoop-3.1.2/share/hadoop/hdfs/lib/jetty-security-9.3.24.v20180605.jar:/home/jovyan/hadoop-3.1.2/share/hadoop/hdfs/lib/commons-lang3-3.4.jar:/home/jovyan/hadoop-3.1.2/share/hadoop/hdfs/lib/jackson-annotations-2.7.8.jar:/home/jovyan/hadoop-3.1.2/share/hadoop/hdfs/lib/kerb-server-1.0.1.jar:/home/jovyan/hadoop-3.1.2/share/hadoop/hdfs/lib/commons-collections-3.2.2.jar:/home/jovyan/hadoop-3.1.2/share/hadoop/hdfs/lib/jettison-1.1.jar:/home/jovyan/hadoop-3.1.2/share/hadoop/hdfs/lib/jersey-core-1.19.jar:/home/jovyan/hadoop-3.1.2/share/hadoop/hdfs/lib/jcip-annotations-1.0-1.jar:/home/jovyan/hadoop-3.1.2/share/hadoop/hdfs/lib/curator-framework-2.13.0.jar:/home/jovyan/hadoop-3.1.2/share/hadoop/hdfs/lib/accessors-smart-1.2.jar:/home/jovyan/hadoop-3.1.2/share/hadoop/hdfs/lib/stax2-api-3.1.4.jar:/home/jovyan/hadoop-3.1.2/share/hadoop/hdfs/lib/jsr305-3.0.0.jar:/home/jovyan/hadoop-3.1.2/share/hadoop/hdfs/lib/httpclient-4.5.2.jar:/home/jovyan/hadoop-3.1.2/share/hadoop/hdfs/lib/avro-1.7.7.jar:/home/jovyan/hadoop-3.1.2/share/hadoop/hdfs/lib/commons-compress-1.18.jar:/home/jovyan/hadoop-3.1.2/share/hadoop/hdfs/lib/protobuf-java-2.5.0.jar:/home/jovyan/hadoop-3.1.2/share/hadoop/hdfs/hadoop-hdfs-native-client-3.1.2.jar:/home/jovyan/hadoop-3.1.2/share/hadoop/hdfs/hadoop-hdfs-rbf-3.1.2.jar:/home/jovyan/hadoop-3.1.2/share/hadoop/hdfs/hadoop-hdfs-client-3.1.2-tests.jar:/home/jovyan/hadoop-3.1.2/share/hadoop/hdfs/hadoop-hdfs-client-3.1.2.jar:/home/jovyan/hadoop-3.1.2/share/hadoop/hdfs/hadoop-hdfs-native-client-3.1.2-tests.jar:/home/jovyan/hadoop-3.1.2/share/hadoop/hdfs/hadoop-hdfs-httpfs-3.1.2.jar:/home/jovyan/hadoop-3.1.2/share/hadoop/hdfs/hadoop-hdfs-3.1.2-tests.jar:/home/jovyan/hadoop-3.1.2/share/hadoop/hdfs/hadoop-hdfs-3.1.2.jar:/home/jovyan/hadoop-3.1.2/share/hadoop/hdfs/hadoop-hdfs-rbf-3.1.2-tests.jar:/home/jovyan/hadoop-3.1.2/share/hadoop/hdfs/hadoop-hdfs-nfs-3.1.2.jar:/home/jovyan/hadoop-3.1.2/share/hadoop/mapreduce/lib/hamcrest-core-1.3.jar:/home/jovyan/hadoop-3.1.2/share/hadoop/mapreduce/lib/junit-4.11.jar:/home/jovyan/hadoop-3.1.2/share/hadoop/mapreduce/hadoop-mapreduce-client-jobclient-3.1.2-tests.jar:/home/jovyan/hadoop-3.1.2/share/hadoop/mapreduce/hadoop-mapreduce-examples-3.1.2.jar:/home/jovyan/hadoop-3.1.2/share/hadoop/mapreduce/hadoop-mapreduce-client-uploader-3.1.2.jar:/home/jovyan/hadoop-3.1.2/share/hadoop/mapreduce/hadoop-mapreduce-client-hs-plugins-3.1.2.jar:/home/jovyan/hadoop-3.1.2/share/hadoop/mapreduce/hadoop-mapreduce-client-jobclient-3.1.2.jar:/home/jovyan/hadoop-3.1.2/share/hadoop/mapreduce/hadoop-mapreduce-client-nativetask-3.1.2.jar:/home/jovyan/hadoop-3.1.2/share/hadoop/mapreduce/hadoop-mapreduce-client-app-3.1.2.jar:/home/jovyan/hadoop-3.1.2/share/hadoop/mapreduce/hadoop-mapreduce-client-core-3.1.2.jar:/home/jovyan/hadoop-3.1.2/share/hadoop/mapreduce/hadoop-mapreduce-client-common-3.1.2.jar:/home/jovyan/hadoop-3.1.2/share/hadoop/mapreduce/hadoop-mapreduce-client-shuffle-3.1.2.jar:/home/jovyan/hadoop-3.1.2/share/hadoop/mapreduce/hadoop-mapreduce-client-hs-3.1.2.jar:/home/jovyan/hadoop-3.1.2/share/hadoop/yarn:/home/jovyan/hadoop-3.1.2/share/hadoop/yarn/lib/guice-4.0.jar:/home/jovyan/hadoop-3.1.2/share/hadoop/yarn/lib/geronimo-jcache_1.0_spec-1.0-alpha-1.jar:/home/jovyan/hadoop-3.1.2/share/hadoop/yarn/lib/guice-servlet-4.0.jar:/home/jovyan/hadoop-3.1.2/share/hadoop/yarn/lib/jackson-jaxrs-base-2.7.8.jar:/home/jovyan/hadoop-3.1.2/share/hadoop/yarn/lib/HikariCP-java7-2.4.12.jar:/home/jovyan/hadoop-3.1.2/share/hadoop/yarn/lib/metrics-core-3.2.4.jar:/home/jovyan/hadoop-3.1.2/share/hadoop/yarn/lib/swagger-annotations-1.5.4.jar:/home/jovyan/hadoop-3.1.2/share/hadoop/yarn/lib/jackson-jaxrs-json-provider-2.7.8.jar:/home/jovyan/hadoop-3.1.2/share/hadoop/yarn/lib/java-util-1.9.0.jar:/home/jovyan/hadoop-3.1.2/share/hadoop/yarn/lib/fst-2.50.jar:/home/jovyan/hadoop-3.1.2/share/hadoop/yarn/lib/jackson-module-jaxb-annotations-2.7.8.jar:/home/jovyan/hadoop-3.1.2/share/hadoop/yarn/lib/snakeyaml-1.16.jar:/home/jovyan/hadoop-3.1.2/share/hadoop/yarn/lib/ehcache-3.3.1.jar:/home/jovyan/hadoop-3.1.2/share/hadoop/yarn/lib/jersey-guice-1.19.jar:/home/jovyan/hadoop-3.1.2/share/hadoop/yarn/lib/javax.inject-1.jar:/home/jovyan/hadoop-3.1.2/share/hadoop/yarn/lib/dnsjava-2.1.7.jar:/home/jovyan/hadoop-3.1.2/share/hadoop/yarn/lib/aopalliance-1.0.jar:/home/jovyan/hadoop-3.1.2/share/hadoop/yarn/lib/jersey-client-1.19.jar:/home/jovyan/hadoop-3.1.2/share/hadoop/yarn/lib/objenesis-1.0.jar:/home/jovyan/hadoop-3.1.2/share/hadoop/yarn/lib/json-io-2.5.1.jar:/home/jovyan/hadoop-3.1.2/share/hadoop/yarn/lib/mssql-jdbc-6.2.1.jre7.jar:/home/jovyan/hadoop-3.1.2/share/hadoop/yarn/hadoop-yarn-services-api-3.1.2.jar:/home/jovyan/hadoop-3.1.2/share/hadoop/yarn/hadoop-yarn-client-3.1.2.jar:/home/jovyan/hadoop-3.1.2/share/hadoop/yarn/hadoop-yarn-server-timeline-pluginstorage-3.1.2.jar:/home/jovyan/hadoop-3.1.2/share/hadoop/yarn/hadoop-yarn-applications-distributedshell-3.1.2.jar:/home/jovyan/hadoop-3.1.2/share/hadoop/yarn/hadoop-yarn-server-web-proxy-3.1.2.jar:/home/jovyan/hadoop-3.1.2/share/hadoop/yarn/hadoop-yarn-applications-unmanaged-am-launcher-3.1.2.jar:/home/jovyan/hadoop-3.1.2/share/hadoop/yarn/hadoop-yarn-server-router-3.1.2.jar:/home/jovyan/hadoop-3.1.2/share/hadoop/yarn/hadoop-yarn-server-nodemanager-3.1.2.jar:/home/jovyan/hadoop-3.1.2/share/hadoop/yarn/hadoop-yarn-server-applicationhistoryservice-3.1.2.jar:/home/jovyan/hadoop-3.1.2/share/hadoop/yarn/hadoop-yarn-server-tests-3.1.2.jar:/home/jovyan/hadoop-3.1.2/share/hadoop/yarn/hadoop-yarn-services-core-3.1.2.jar:/home/jovyan/hadoop-3.1.2/share/hadoop/yarn/hadoop-yarn-server-common-3.1.2.jar:/home/jovyan/hadoop-3.1.2/share/hadoop/yarn/hadoop-yarn-server-sharedcachemanager-3.1.2.jar:/home/jovyan/hadoop-3.1.2/share/hadoop/yarn/hadoop-yarn-registry-3.1.2.jar:/home/jovyan/hadoop-3.1.2/share/hadoop/yarn/hadoop-yarn-api-3.1.2.jar:/home/jovyan/hadoop-3.1.2/share/hadoop/yarn/hadoop-yarn-server-resourcemanager-3.1.2.jar:/home/jovyan/hadoop-3.1.2/share/hadoop/yarn/hadoop-yarn-common-3.1.2.jar\n",
      "STARTUP_MSG:   build = https://github.com/apache/hadoop.git -r 1019dde65bcf12e05ef48ac71e84550d589e5d9a; compiled by 'sunilg' on 2019-01-29T01:39Z\n",
      "STARTUP_MSG:   java = 1.8.0_212\n",
      "************************************************************/\n",
      "2019-07-07 01:12:11,457 INFO namenode.NameNode: registered UNIX signal handlers for [TERM, HUP, INT]\n",
      "2019-07-07 01:12:11,717 INFO namenode.NameNode: createNameNode [-format, -force, -nonInteractive]\n",
      "Formatting using clusterid: CID-35b72f7e-663d-4a85-8e82-94b2560ad1ae\n",
      "2019-07-07 01:12:12,752 INFO namenode.FSEditLog: Edit logging is async:true\n",
      "2019-07-07 01:12:12,776 INFO namenode.FSNamesystem: KeyProvider: null\n",
      "2019-07-07 01:12:12,777 INFO namenode.FSNamesystem: fsLock is fair: true\n",
      "2019-07-07 01:12:12,778 INFO namenode.FSNamesystem: Detailed lock hold time metrics enabled: false\n",
      "2019-07-07 01:12:12,810 INFO namenode.FSNamesystem: fsOwner             = jovyan (auth:SIMPLE)\n",
      "2019-07-07 01:12:12,810 INFO namenode.FSNamesystem: supergroup          = supergroup\n",
      "2019-07-07 01:12:12,810 INFO namenode.FSNamesystem: isPermissionEnabled = true\n",
      "2019-07-07 01:12:12,810 INFO namenode.FSNamesystem: HA Enabled: false\n",
      "2019-07-07 01:12:12,866 INFO common.Util: dfs.datanode.fileio.profiling.sampling.percentage set to 0. Disabling file IO profiling\n",
      "2019-07-07 01:12:12,880 INFO blockmanagement.DatanodeManager: dfs.block.invalidate.limit: configured=1000, counted=60, effected=1000\n",
      "2019-07-07 01:12:12,880 INFO blockmanagement.DatanodeManager: dfs.namenode.datanode.registration.ip-hostname-check=true\n",
      "2019-07-07 01:12:12,910 INFO blockmanagement.BlockManager: dfs.namenode.startup.delay.block.deletion.sec is set to 000:00:00:00.000\n",
      "2019-07-07 01:12:12,911 INFO blockmanagement.BlockManager: The block deletion will start around 2019 Jul 07 01:12:12\n",
      "2019-07-07 01:12:12,913 INFO util.GSet: Computing capacity for map BlocksMap\n",
      "2019-07-07 01:12:12,913 INFO util.GSet: VM type       = 64-bit\n",
      "2019-07-07 01:12:12,915 INFO util.GSet: 2.0% max memory 494.9 MB = 9.9 MB\n",
      "2019-07-07 01:12:12,915 INFO util.GSet: capacity      = 2^20 = 1048576 entries\n",
      "2019-07-07 01:12:12,947 INFO blockmanagement.BlockManager: dfs.block.access.token.enable = false\n",
      "2019-07-07 01:12:12,954 INFO Configuration.deprecation: No unit for dfs.namenode.safemode.extension(30000) assuming MILLISECONDS\n",
      "2019-07-07 01:12:12,954 INFO blockmanagement.BlockManagerSafeMode: dfs.namenode.safemode.threshold-pct = 0.9990000128746033\n",
      "2019-07-07 01:12:12,955 INFO blockmanagement.BlockManagerSafeMode: dfs.namenode.safemode.min.datanodes = 0\n",
      "2019-07-07 01:12:12,955 INFO blockmanagement.BlockManagerSafeMode: dfs.namenode.safemode.extension = 30000\n",
      "2019-07-07 01:12:12,955 INFO blockmanagement.BlockManager: defaultReplication         = 1\n",
      "2019-07-07 01:12:12,955 INFO blockmanagement.BlockManager: maxReplication             = 512\n",
      "2019-07-07 01:12:12,955 INFO blockmanagement.BlockManager: minReplication             = 1\n",
      "2019-07-07 01:12:12,955 INFO blockmanagement.BlockManager: maxReplicationStreams      = 2\n",
      "2019-07-07 01:12:12,955 INFO blockmanagement.BlockManager: redundancyRecheckInterval  = 3000ms\n",
      "2019-07-07 01:12:12,955 INFO blockmanagement.BlockManager: encryptDataTransfer        = false\n",
      "2019-07-07 01:12:12,955 INFO blockmanagement.BlockManager: maxNumBlocksToLog          = 1000\n",
      "2019-07-07 01:12:13,027 INFO namenode.FSDirectory: GLOBAL serial map: bits=24 maxEntries=16777215\n",
      "2019-07-07 01:12:13,047 INFO util.GSet: Computing capacity for map INodeMap\n",
      "2019-07-07 01:12:13,047 INFO util.GSet: VM type       = 64-bit\n",
      "2019-07-07 01:12:13,048 INFO util.GSet: 1.0% max memory 494.9 MB = 4.9 MB\n",
      "2019-07-07 01:12:13,048 INFO util.GSet: capacity      = 2^19 = 524288 entries\n",
      "2019-07-07 01:12:13,049 INFO namenode.FSDirectory: ACLs enabled? false\n",
      "2019-07-07 01:12:13,049 INFO namenode.FSDirectory: POSIX ACL inheritance enabled? true\n",
      "2019-07-07 01:12:13,049 INFO namenode.FSDirectory: XAttrs enabled? true\n",
      "2019-07-07 01:12:13,049 INFO namenode.NameNode: Caching file names occurring more than 10 times\n",
      "2019-07-07 01:12:13,054 INFO snapshot.SnapshotManager: Loaded config captureOpenFiles: false, skipCaptureAccessTimeOnlyChange: false, snapshotDiffAllowSnapRootDescendant: true, maxSnapshotLimit: 65536\n",
      "2019-07-07 01:12:13,056 INFO snapshot.SnapshotManager: SkipList is disabled\n",
      "2019-07-07 01:12:13,063 INFO util.GSet: Computing capacity for map cachedBlocks\n",
      "2019-07-07 01:12:13,063 INFO util.GSet: VM type       = 64-bit\n",
      "2019-07-07 01:12:13,064 INFO util.GSet: 0.25% max memory 494.9 MB = 1.2 MB\n",
      "2019-07-07 01:12:13,064 INFO util.GSet: capacity      = 2^17 = 131072 entries\n",
      "2019-07-07 01:12:13,108 INFO metrics.TopMetrics: NNTop conf: dfs.namenode.top.window.num.buckets = 10\n",
      "2019-07-07 01:12:13,108 INFO metrics.TopMetrics: NNTop conf: dfs.namenode.top.num.users = 10\n",
      "2019-07-07 01:12:13,108 INFO metrics.TopMetrics: NNTop conf: dfs.namenode.top.windows.minutes = 1,5,25\n",
      "2019-07-07 01:12:13,113 INFO namenode.FSNamesystem: Retry cache on namenode is enabled\n",
      "2019-07-07 01:12:13,113 INFO namenode.FSNamesystem: Retry cache will use 0.03 of total heap and retry cache entry expiry time is 600000 millis\n",
      "2019-07-07 01:12:13,115 INFO util.GSet: Computing capacity for map NameNodeRetryCache\n",
      "2019-07-07 01:12:13,115 INFO util.GSet: VM type       = 64-bit\n",
      "2019-07-07 01:12:13,116 INFO util.GSet: 0.029999999329447746% max memory 494.9 MB = 152.0 KB\n",
      "2019-07-07 01:12:13,116 INFO util.GSet: capacity      = 2^14 = 16384 entries\n",
      "2019-07-07 01:12:13,164 INFO namenode.FSImage: Allocated new BlockPoolId: BP-895334589-10.12.14.122-1562461933154\n",
      "2019-07-07 01:12:13,223 INFO common.Storage: Storage directory /tmp/hadoop-jovyan/dfs/name has been successfully formatted.\n",
      "2019-07-07 01:12:13,235 INFO namenode.FSImageFormatProtobuf: Saving image file /tmp/hadoop-jovyan/dfs/name/current/fsimage.ckpt_0000000000000000000 using no compression\n",
      "2019-07-07 01:12:13,411 INFO namenode.FSImageFormatProtobuf: Image file /tmp/hadoop-jovyan/dfs/name/current/fsimage.ckpt_0000000000000000000 of size 393 bytes saved in 0 seconds .\n",
      "2019-07-07 01:12:13,429 INFO namenode.NNStorageRetentionManager: Going to retain 1 images with txid >= 0\n",
      "2019-07-07 01:12:13,436 INFO namenode.NameNode: SHUTDOWN_MSG: \n",
      "/************************************************************\n",
      "SHUTDOWN_MSG: Shutting down NameNode at jupyter-thedatasociety-2dbinderhub-2dhadoop-2d7t7j5qi7/10.12.14.122\n",
      "************************************************************/\n"
     ]
    }
   ],
   "source": [
    "!./${HADOOP_PATH}/bin/hdfs namenode -format -force -nonInteractive"
   ]
  },
  {
   "cell_type": "markdown",
   "metadata": {},
   "source": [
    "### Adding ssh options: running in a diferent port"
   ]
  },
  {
   "cell_type": "code",
   "execution_count": 22,
   "metadata": {},
   "outputs": [
    {
     "name": "stdout",
     "output_type": "stream",
     "text": [
      "env: HADOOP_SSH_OPTS=-o StrictHostKeyChecking=no -p 8822\n"
     ]
    }
   ],
   "source": [
    "%env HADOOP_SSH_OPTS= -o StrictHostKeyChecking=no -p 8822 "
   ]
  },
  {
   "cell_type": "markdown",
   "metadata": {},
   "source": [
    "### Starting/stoping NameNode daemon and DataNode daemon"
   ]
  },
  {
   "cell_type": "code",
   "execution_count": 23,
   "metadata": {},
   "outputs": [
    {
     "name": "stdout",
     "output_type": "stream",
     "text": [
      "Starting namenodes on [localhost]\n",
      "localhost: Warning: Permanently added '[localhost]:8822' (ECDSA) to the list of known hosts.\n",
      "Starting datanodes\n",
      "Starting secondary namenodes [jupyter-thedatasociety-2dbinderhub-2dhadoop-2d7t7j5qi7]\n",
      "jupyter-thedatasociety-2dbinderhub-2dhadoop-2d7t7j5qi7: Warning: Permanently added '[jupyter-thedatasociety-2dbinderhub-2dhadoop-2d7t7j5qi7]:8822,[10.12.14.122]:8822' (ECDSA) to the list of known hosts.\n"
     ]
    }
   ],
   "source": [
    "!./${HADOOP_PATH}/sbin/start-dfs.sh\n",
    "#!./${HADOOP_PATH}/sbin/stop-dfs.sh"
   ]
  },
  {
   "cell_type": "markdown",
   "metadata": {},
   "source": [
    "### Creating folders in the distributed file system"
   ]
  },
  {
   "cell_type": "code",
   "execution_count": 24,
   "metadata": {},
   "outputs": [],
   "source": [
    "!./${HADOOP_PATH}/bin/hdfs dfs -mkdir /user/\n",
    "!./${HADOOP_PATH}/bin/hdfs dfs -mkdir /user/matheus/\n",
    "!./${HADOOP_PATH}/bin/hdfs dfs -mkdir /user/matheus/input/"
   ]
  },
  {
   "cell_type": "markdown",
   "metadata": {},
   "source": [
    "### Copying a file to a folder in the distributed file system"
   ]
  },
  {
   "cell_type": "code",
   "execution_count": 25,
   "metadata": {},
   "outputs": [],
   "source": [
    "!./${HADOOP_PATH}/bin/hdfs dfs -put ./resources/examples/newyorknewyork.txt /user/matheus/input/"
   ]
  },
  {
   "cell_type": "code",
   "execution_count": 26,
   "metadata": {},
   "outputs": [
    {
     "name": "stdout",
     "output_type": "stream",
     "text": [
      "Found 1 items\n",
      "-rw-r--r--   1 jovyan supergroup        865 2019-07-07 01:14 /user/matheus/input/newyorknewyork.txt\n"
     ]
    }
   ],
   "source": [
    "!./${HADOOP_PATH}/bin/hdfs dfs -ls /user/matheus/input/"
   ]
  },
  {
   "cell_type": "code",
   "execution_count": 27,
   "metadata": {},
   "outputs": [
    {
     "name": "stdout",
     "output_type": "stream",
     "text": [
      "Start spreading the news\n",
      "I am leaving today\n",
      "I want to be a part of it\n",
      "New York New York\n",
      "These vagabond shoes\n",
      "They are longing to stray\n",
      "Right through the very heart of it\n",
      "New York New York\n",
      "I want to wake up in that city\n",
      "That doesn't sleep\n",
      "And find I'm king of the hill\n",
      "Top of the heap\n",
      "My little town blues\n",
      "They are melting away\n",
      "I gonna make a brand new start of it\n",
      "In old New York\n",
      "If I can make it there\n",
      "I'll make it anywhere\n",
      "It's up to you\n",
      "New York New York\n",
      "New York New York\n",
      "I want to wake up in that city\n",
      "That never sleeps\n",
      "And find I'm king of the hill\n",
      "Top of the list\n",
      "Head of the heap\n",
      "King of the hill\n",
      "These are little town blues\n",
      "They have all melted away\n",
      "I am about to make a brand new start of it\n",
      "Right there in old New York\n",
      "And you bet baby\n",
      "If I can make it there\n",
      "You know I'm gonna make it just about anywhere\n",
      "Come on come through\n",
      "New York New York New York\n"
     ]
    }
   ],
   "source": [
    "!./${HADOOP_PATH}/bin/hdfs dfs -cat /user/matheus/input/newyorknewyork.txt"
   ]
  },
  {
   "cell_type": "markdown",
   "metadata": {},
   "source": [
    "# Running YARN on a single node"
   ]
  },
  {
   "cell_type": "code",
   "execution_count": 36,
   "metadata": {},
   "outputs": [
    {
     "name": "stdout",
     "output_type": "stream",
     "text": [
      "Starting resourcemanager\n",
      "resourcemanager is running as process 1125.  Stop it first.\n",
      "Starting nodemanagers\n",
      "localhost: nodemanager is running as process 1222.  Stop it first.\n"
     ]
    }
   ],
   "source": [
    "!./${HADOOP_PATH}/sbin/start-yarn.sh"
   ]
  },
  {
   "cell_type": "markdown",
   "metadata": {},
   "source": [
    "# Simple word count example"
   ]
  },
  {
   "cell_type": "code",
   "execution_count": 32,
   "metadata": {},
   "outputs": [
    {
     "name": "stdout",
     "output_type": "stream",
     "text": [
      "2019-07-07 01:15:36,634 INFO client.RMProxy: Connecting to ResourceManager at /0.0.0.0:8032\n",
      "2019-07-07 01:15:38,374 INFO ipc.Client: Retrying connect to server: 0.0.0.0/0.0.0.0:8032. Already tried 0 time(s); retry policy is RetryUpToMaximumCountWithFixedSleep(maxRetries=10, sleepTime=1000 MILLISECONDS)\n",
      "2019-07-07 01:15:39,375 INFO ipc.Client: Retrying connect to server: 0.0.0.0/0.0.0.0:8032. Already tried 1 time(s); retry policy is RetryUpToMaximumCountWithFixedSleep(maxRetries=10, sleepTime=1000 MILLISECONDS)\n",
      "2019-07-07 01:15:40,376 INFO ipc.Client: Retrying connect to server: 0.0.0.0/0.0.0.0:8032. Already tried 2 time(s); retry policy is RetryUpToMaximumCountWithFixedSleep(maxRetries=10, sleepTime=1000 MILLISECONDS)\n",
      "2019-07-07 01:15:41,377 INFO ipc.Client: Retrying connect to server: 0.0.0.0/0.0.0.0:8032. Already tried 3 time(s); retry policy is RetryUpToMaximumCountWithFixedSleep(maxRetries=10, sleepTime=1000 MILLISECONDS)\n",
      "2019-07-07 01:15:42,379 INFO ipc.Client: Retrying connect to server: 0.0.0.0/0.0.0.0:8032. Already tried 4 time(s); retry policy is RetryUpToMaximumCountWithFixedSleep(maxRetries=10, sleepTime=1000 MILLISECONDS)\n",
      "2019-07-07 01:15:43,380 INFO ipc.Client: Retrying connect to server: 0.0.0.0/0.0.0.0:8032. Already tried 5 time(s); retry policy is RetryUpToMaximumCountWithFixedSleep(maxRetries=10, sleepTime=1000 MILLISECONDS)\n",
      "2019-07-07 01:15:44,381 INFO ipc.Client: Retrying connect to server: 0.0.0.0/0.0.0.0:8032. Already tried 6 time(s); retry policy is RetryUpToMaximumCountWithFixedSleep(maxRetries=10, sleepTime=1000 MILLISECONDS)\n",
      "2019-07-07 01:15:45,382 INFO ipc.Client: Retrying connect to server: 0.0.0.0/0.0.0.0:8032. Already tried 7 time(s); retry policy is RetryUpToMaximumCountWithFixedSleep(maxRetries=10, sleepTime=1000 MILLISECONDS)\n",
      "2019-07-07 01:15:46,383 INFO ipc.Client: Retrying connect to server: 0.0.0.0/0.0.0.0:8032. Already tried 8 time(s); retry policy is RetryUpToMaximumCountWithFixedSleep(maxRetries=10, sleepTime=1000 MILLISECONDS)\n",
      "2019-07-07 01:15:47,384 INFO ipc.Client: Retrying connect to server: 0.0.0.0/0.0.0.0:8032. Already tried 9 time(s); retry policy is RetryUpToMaximumCountWithFixedSleep(maxRetries=10, sleepTime=1000 MILLISECONDS)\n",
      "2019-07-07 01:15:48,393 INFO ipc.Client: Retrying connect to server: 0.0.0.0/0.0.0.0:8032. Already tried 0 time(s); retry policy is RetryUpToMaximumCountWithFixedSleep(maxRetries=10, sleepTime=1000 MILLISECONDS)\n",
      "2019-07-07 01:15:49,394 INFO ipc.Client: Retrying connect to server: 0.0.0.0/0.0.0.0:8032. Already tried 1 time(s); retry policy is RetryUpToMaximumCountWithFixedSleep(maxRetries=10, sleepTime=1000 MILLISECONDS)\n",
      "2019-07-07 01:15:50,395 INFO ipc.Client: Retrying connect to server: 0.0.0.0/0.0.0.0:8032. Already tried 2 time(s); retry policy is RetryUpToMaximumCountWithFixedSleep(maxRetries=10, sleepTime=1000 MILLISECONDS)\n",
      "2019-07-07 01:15:51,396 INFO ipc.Client: Retrying connect to server: 0.0.0.0/0.0.0.0:8032. Already tried 3 time(s); retry policy is RetryUpToMaximumCountWithFixedSleep(maxRetries=10, sleepTime=1000 MILLISECONDS)\n",
      "^C\n"
     ]
    }
   ],
   "source": [
    "!./${HADOOP_PATH}/bin/yarn jar ./${HADOOP_PATH}/share/hadoop/mapreduce/hadoop-mapreduce-examples-${HADOOP_VERSION}.jar  \\\n",
    "                                 wordcount \\\n",
    "                                 /user/matheus/input /user/matheus/output"
   ]
  },
  {
   "cell_type": "code",
   "execution_count": 33,
   "metadata": {},
   "outputs": [
    {
     "name": "stdout",
     "output_type": "stream",
     "text": [
      "ls: `/user/matheus/output/': No such file or directory\n"
     ]
    }
   ],
   "source": [
    "!./${HADOOP_PATH}/bin/hdfs dfs -ls /user/matheus/output/"
   ]
  },
  {
   "cell_type": "code",
   "execution_count": 34,
   "metadata": {},
   "outputs": [
    {
     "name": "stdout",
     "output_type": "stream",
     "text": [
      "cat: `/user/matheus/output/part-r-00000': No such file or directory\n"
     ]
    }
   ],
   "source": [
    "!./${HADOOP_PATH}/bin/hdfs dfs -cat /user/matheus/output/part-r-00000"
   ]
  },
  {
   "cell_type": "code",
   "execution_count": 35,
   "metadata": {},
   "outputs": [],
   "source": [
    "# !./${HADOOP_PATH}/bin/hdfs dfs -rm -r  /user/matheus/output/"
   ]
  },
  {
   "cell_type": "code",
   "execution_count": null,
   "metadata": {},
   "outputs": [],
   "source": []
  }
 ],
 "metadata": {
  "kernelspec": {
   "display_name": "Python 3",
   "language": "python",
   "name": "python3"
  },
  "language_info": {
   "codemirror_mode": {
    "name": "ipython",
    "version": 3
   },
   "file_extension": ".py",
   "mimetype": "text/x-python",
   "name": "python",
   "nbconvert_exporter": "python",
   "pygments_lexer": "ipython3",
   "version": "3.7.3"
  }
 },
 "nbformat": 4,
 "nbformat_minor": 4
}
