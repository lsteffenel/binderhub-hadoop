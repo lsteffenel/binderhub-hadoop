{
 "cells": [
  {
   "cell_type": "markdown",
   "metadata": {
    "toc-hr-collapsed": false
   },
   "source": [
    "# Initial definitions"
   ]
  },
  {
   "cell_type": "code",
   "execution_count": 4,
   "metadata": {},
   "outputs": [
    {
     "name": "stdout",
     "output_type": "stream",
     "text": [
      "env: HADOOP_VERSION=2.10.1\n",
      "env: HADOOP_PATH=hadoop-2.10.1\n"
     ]
    }
   ],
   "source": [
    "%env HADOOP_VERSION     2.10.1\n",
    "%env HADOOP_PATH hadoop-2.10.1"
   ]
  },
  {
   "cell_type": "markdown",
   "metadata": {
    "toc-hr-collapsed": false
   },
   "source": [
    "# Preparing the environment"
   ]
  },
  {
   "cell_type": "markdown",
   "metadata": {
    "toc-hr-collapsed": false
   },
   "source": [
    "## Downloading Hadoop"
   ]
  },
  {
   "cell_type": "code",
   "execution_count": 5,
   "metadata": {},
   "outputs": [
    {
     "name": "stdout",
     "output_type": "stream",
     "text": [
      "hadoop-2.10.1.tar.g 100%[===================>] 389.66M  12.3MB/s    in 33s     \n"
     ]
    }
   ],
   "source": [
    "!wget http://ftp.unicamp.br/pub/apache/hadoop/common/hadoop-${HADOOP_VERSION}/hadoop-${HADOOP_VERSION}.tar.gz -q --show-progress"
   ]
  },
  {
   "cell_type": "markdown",
   "metadata": {
    "toc-hr-collapsed": false
   },
   "source": [
    "## Extracting compressed files and removing .tar"
   ]
  },
  {
   "cell_type": "code",
   "execution_count": 6,
   "metadata": {},
   "outputs": [],
   "source": [
    "# !rm ${HADOOP_PATH} -r\n",
    "!tar -xvf hadoop-${HADOOP_VERSION}.tar.gz >/dev/null \n",
    "!rm       hadoop-${HADOOP_VERSION}.tar.gz"
   ]
  },
  {
   "cell_type": "markdown",
   "metadata": {
    "toc-hr-collapsed": false
   },
   "source": [
    "## Discovering the Java path"
   ]
  },
  {
   "cell_type": "code",
   "execution_count": 7,
   "metadata": {},
   "outputs": [
    {
     "name": "stdout",
     "output_type": "stream",
     "text": [
      "/usr/lib/jvm/java-8-openjdk-amd64\n"
     ]
    }
   ],
   "source": [
    "!dirname $(dirname $(readlink -f $(which javac)))"
   ]
  },
  {
   "cell_type": "markdown",
   "metadata": {},
   "source": [
    "## Setting the Java path envvar\n",
    "\n",
    "We also added it to user's .bashrc so it will be loaded as the nodes perform ssh connections."
   ]
  },
  {
   "cell_type": "code",
   "execution_count": 8,
   "metadata": {},
   "outputs": [
    {
     "name": "stdout",
     "output_type": "stream",
     "text": [
      "env: JAVA_HOME=/usr/lib/jvm/java-8-openjdk-amd64\n"
     ]
    }
   ],
   "source": [
    "%env JAVA_HOME /usr/lib/jvm/java-8-openjdk-amd64"
   ]
  },
  {
   "cell_type": "code",
   "execution_count": 9,
   "metadata": {},
   "outputs": [],
   "source": [
    "!echo \"export JAVA_HOME=/usr/lib/jvm/java-8-openjdk-amd64 \" >> ~/.bashrc\n",
    "!echo \"export JAVA_HOME=/usr/lib/jvm/java-8-openjdk-amd64 \" >> ~/.profile\n",
    "!echo \"export JAVA_HOME=/usr/lib/jvm/java-8-openjdk-amd64 \" >> ${HADOOP_PATH}/etc/hadoop/hadoop-env.sh"
   ]
  },
  {
   "cell_type": "markdown",
   "metadata": {
    "toc-hr-collapsed": false
   },
   "source": [
    "# Hadoop in Standalone Mode (local)"
   ]
  },
  {
   "cell_type": "markdown",
   "metadata": {
    "toc-hr-collapsed": true
   },
   "source": [
    "## MapReduce in the local filesystem - word count example"
   ]
  },
  {
   "cell_type": "code",
   "execution_count": 10,
   "metadata": {},
   "outputs": [
    {
     "name": "stdout",
     "output_type": "stream",
     "text": [
      "21/11/10 15:15:27 INFO Configuration.deprecation: session.id is deprecated. Instead, use dfs.metrics.session-id\n",
      "21/11/10 15:15:27 INFO jvm.JvmMetrics: Initializing JVM Metrics with processName=JobTracker, sessionId=\n",
      "21/11/10 15:15:27 INFO input.FileInputFormat: Total input files to process : 1\n",
      "21/11/10 15:15:27 INFO mapreduce.JobSubmitter: number of splits:1\n",
      "21/11/10 15:15:27 INFO mapreduce.JobSubmitter: Submitting tokens for job: job_local170601614_0001\n",
      "21/11/10 15:15:28 INFO mapreduce.Job: The url to track the job: http://localhost:8080/\n",
      "21/11/10 15:15:28 INFO mapreduce.Job: Running job: job_local170601614_0001\n",
      "21/11/10 15:15:28 INFO mapred.LocalJobRunner: OutputCommitter set in config null\n",
      "21/11/10 15:15:28 INFO output.FileOutputCommitter: File Output Committer Algorithm version is 1\n",
      "21/11/10 15:15:28 INFO output.FileOutputCommitter: FileOutputCommitter skip cleanup _temporary folders under output directory:false, ignore cleanup failures: false\n",
      "21/11/10 15:15:28 INFO mapred.LocalJobRunner: OutputCommitter is org.apache.hadoop.mapreduce.lib.output.FileOutputCommitter\n",
      "21/11/10 15:15:28 INFO mapred.LocalJobRunner: Waiting for map tasks\n",
      "21/11/10 15:15:28 INFO mapred.LocalJobRunner: Starting task: attempt_local170601614_0001_m_000000_0\n",
      "21/11/10 15:15:28 INFO output.FileOutputCommitter: File Output Committer Algorithm version is 1\n",
      "21/11/10 15:15:28 INFO output.FileOutputCommitter: FileOutputCommitter skip cleanup _temporary folders under output directory:false, ignore cleanup failures: false\n",
      "21/11/10 15:15:28 INFO mapred.Task:  Using ResourceCalculatorProcessTree : [ ]\n",
      "21/11/10 15:15:28 INFO mapred.MapTask: Processing split: file:/home/jovyan/resources/examples/newyorknewyork.txt:0+865\n",
      "21/11/10 15:15:28 INFO mapred.MapTask: (EQUATOR) 0 kvi 26214396(104857584)\n",
      "21/11/10 15:15:28 INFO mapred.MapTask: mapreduce.task.io.sort.mb: 100\n",
      "21/11/10 15:15:28 INFO mapred.MapTask: soft limit at 83886080\n",
      "21/11/10 15:15:28 INFO mapred.MapTask: bufstart = 0; bufvoid = 104857600\n",
      "21/11/10 15:15:28 INFO mapred.MapTask: kvstart = 26214396; length = 6553600\n",
      "21/11/10 15:15:28 INFO mapred.MapTask: Map output collector class = org.apache.hadoop.mapred.MapTask$MapOutputBuffer\n",
      "21/11/10 15:15:28 INFO mapred.LocalJobRunner: \n",
      "21/11/10 15:15:28 INFO mapred.MapTask: Starting flush of map output\n",
      "21/11/10 15:15:28 INFO mapred.MapTask: Spilling map output\n",
      "21/11/10 15:15:28 INFO mapred.MapTask: bufstart = 0; bufend = 1625; bufvoid = 104857600\n",
      "21/11/10 15:15:28 INFO mapred.MapTask: kvstart = 26214396(104857584); kvend = 26213640(104854560); length = 757/6553600\n",
      "21/11/10 15:15:28 INFO mapred.MapTask: Finished spill 0\n",
      "21/11/10 15:15:28 INFO mapred.Task: Task:attempt_local170601614_0001_m_000000_0 is done. And is in the process of committing\n",
      "21/11/10 15:15:28 INFO mapred.LocalJobRunner: map\n",
      "21/11/10 15:15:28 INFO mapred.Task: Task 'attempt_local170601614_0001_m_000000_0' done.\n",
      "21/11/10 15:15:28 INFO mapred.Task: Final Counters for attempt_local170601614_0001_m_000000_0: Counters: 18\n",
      "\tFile System Counters\n",
      "\t\tFILE: Number of bytes read=304365\n",
      "\t\tFILE: Number of bytes written=795754\n",
      "\t\tFILE: Number of read operations=0\n",
      "\t\tFILE: Number of large read operations=0\n",
      "\t\tFILE: Number of write operations=0\n",
      "\tMap-Reduce Framework\n",
      "\t\tMap input records=36\n",
      "\t\tMap output records=190\n",
      "\t\tMap output bytes=1625\n",
      "\t\tMap output materialized bytes=894\n",
      "\t\tInput split bytes=120\n",
      "\t\tCombine input records=190\n",
      "\t\tCombine output records=80\n",
      "\t\tSpilled Records=80\n",
      "\t\tFailed Shuffles=0\n",
      "\t\tMerged Map outputs=0\n",
      "\t\tGC time elapsed (ms)=82\n",
      "\t\tTotal committed heap usage (bytes)=137433088\n",
      "\tFile Input Format Counters \n",
      "\t\tBytes Read=865\n",
      "21/11/10 15:15:28 INFO mapred.LocalJobRunner: Finishing task: attempt_local170601614_0001_m_000000_0\n",
      "21/11/10 15:15:28 INFO mapred.LocalJobRunner: map task executor complete.\n",
      "21/11/10 15:15:28 INFO mapred.LocalJobRunner: Waiting for reduce tasks\n",
      "21/11/10 15:15:28 INFO mapred.LocalJobRunner: Starting task: attempt_local170601614_0001_r_000000_0\n",
      "21/11/10 15:15:28 INFO output.FileOutputCommitter: File Output Committer Algorithm version is 1\n",
      "21/11/10 15:15:28 INFO output.FileOutputCommitter: FileOutputCommitter skip cleanup _temporary folders under output directory:false, ignore cleanup failures: false\n",
      "21/11/10 15:15:28 INFO mapred.Task:  Using ResourceCalculatorProcessTree : [ ]\n",
      "21/11/10 15:15:28 INFO mapred.ReduceTask: Using ShuffleConsumerPlugin: org.apache.hadoop.mapreduce.task.reduce.Shuffle@2f4295a6\n",
      "21/11/10 15:15:28 INFO reduce.MergeManagerImpl: MergerManager: memoryLimit=363285696, maxSingleShuffleLimit=90821424, mergeThreshold=239768576, ioSortFactor=10, memToMemMergeOutputsThreshold=10\n",
      "21/11/10 15:15:28 INFO reduce.EventFetcher: attempt_local170601614_0001_r_000000_0 Thread started: EventFetcher for fetching Map Completion Events\n",
      "21/11/10 15:15:29 INFO reduce.LocalFetcher: localfetcher#1 about to shuffle output of map attempt_local170601614_0001_m_000000_0 decomp: 890 len: 894 to MEMORY\n",
      "21/11/10 15:15:29 INFO reduce.InMemoryMapOutput: Read 890 bytes from map-output for attempt_local170601614_0001_m_000000_0\n",
      "21/11/10 15:15:29 INFO reduce.MergeManagerImpl: closeInMemoryFile -> map-output of size: 890, inMemoryMapOutputs.size() -> 1, commitMemory -> 0, usedMemory ->890\n",
      "21/11/10 15:15:29 INFO reduce.EventFetcher: EventFetcher is interrupted.. Returning\n",
      "21/11/10 15:15:29 INFO mapred.LocalJobRunner: 1 / 1 copied.\n",
      "21/11/10 15:15:29 INFO reduce.MergeManagerImpl: finalMerge called with 1 in-memory map-outputs and 0 on-disk map-outputs\n",
      "21/11/10 15:15:29 INFO mapred.Merger: Merging 1 sorted segments\n",
      "21/11/10 15:15:29 INFO mapred.Merger: Down to the last merge-pass, with 1 segments left of total size: 884 bytes\n",
      "21/11/10 15:15:29 INFO reduce.MergeManagerImpl: Merged 1 segments, 890 bytes to disk to satisfy reduce memory limit\n",
      "21/11/10 15:15:29 INFO reduce.MergeManagerImpl: Merging 1 files, 894 bytes from disk\n",
      "21/11/10 15:15:29 INFO reduce.MergeManagerImpl: Merging 0 segments, 0 bytes from memory into reduce\n",
      "21/11/10 15:15:29 INFO mapred.Merger: Merging 1 sorted segments\n",
      "21/11/10 15:15:29 INFO mapred.Merger: Down to the last merge-pass, with 1 segments left of total size: 884 bytes\n",
      "21/11/10 15:15:29 INFO mapred.LocalJobRunner: 1 / 1 copied.\n",
      "21/11/10 15:15:29 INFO Configuration.deprecation: mapred.skip.on is deprecated. Instead, use mapreduce.job.skiprecords\n",
      "21/11/10 15:15:29 INFO mapred.Task: Task:attempt_local170601614_0001_r_000000_0 is done. And is in the process of committing\n",
      "21/11/10 15:15:29 INFO mapred.LocalJobRunner: 1 / 1 copied.\n",
      "21/11/10 15:15:29 INFO mapred.Task: Task attempt_local170601614_0001_r_000000_0 is allowed to commit now\n",
      "21/11/10 15:15:29 INFO output.FileOutputCommitter: Saved output of task 'attempt_local170601614_0001_r_000000_0' to file:/home/jovyan/output/_temporary/0/task_local170601614_0001_r_000000\n",
      "21/11/10 15:15:29 INFO mapred.LocalJobRunner: reduce > reduce\n",
      "21/11/10 15:15:29 INFO mapred.Task: Task 'attempt_local170601614_0001_r_000000_0' done.\n",
      "21/11/10 15:15:29 INFO mapred.Task: Final Counters for attempt_local170601614_0001_r_000000_0: Counters: 24\n",
      "\tFile System Counters\n",
      "\t\tFILE: Number of bytes read=306185\n",
      "\t\tFILE: Number of bytes written=797235\n",
      "\t\tFILE: Number of read operations=0\n",
      "\t\tFILE: Number of large read operations=0\n",
      "\t\tFILE: Number of write operations=0\n",
      "\tMap-Reduce Framework\n",
      "\t\tCombine input records=0\n",
      "\t\tCombine output records=0\n",
      "\t\tReduce input groups=80\n",
      "\t\tReduce shuffle bytes=894\n",
      "\t\tReduce input records=80\n",
      "\t\tReduce output records=80\n",
      "\t\tSpilled Records=80\n",
      "\t\tShuffled Maps =1\n",
      "\t\tFailed Shuffles=0\n",
      "\t\tMerged Map outputs=1\n",
      "\t\tGC time elapsed (ms)=2\n",
      "\t\tTotal committed heap usage (bytes)=137433088\n",
      "\tShuffle Errors\n",
      "\t\tBAD_ID=0\n",
      "\t\tCONNECTION=0\n",
      "\t\tIO_ERROR=0\n",
      "\t\tWRONG_LENGTH=0\n",
      "\t\tWRONG_MAP=0\n",
      "\t\tWRONG_REDUCE=0\n",
      "\tFile Output Format Counters \n",
      "\t\tBytes Written=587\n",
      "21/11/10 15:15:29 INFO mapred.LocalJobRunner: Finishing task: attempt_local170601614_0001_r_000000_0\n",
      "21/11/10 15:15:29 INFO mapred.LocalJobRunner: reduce task executor complete.\n",
      "21/11/10 15:15:29 INFO mapreduce.Job: Job job_local170601614_0001 running in uber mode : false\n",
      "21/11/10 15:15:29 INFO mapreduce.Job:  map 100% reduce 100%\n",
      "21/11/10 15:15:29 INFO mapreduce.Job: Job job_local170601614_0001 completed successfully\n",
      "21/11/10 15:15:29 INFO mapreduce.Job: Counters: 30\n",
      "\tFile System Counters\n",
      "\t\tFILE: Number of bytes read=610550\n",
      "\t\tFILE: Number of bytes written=1592989\n",
      "\t\tFILE: Number of read operations=0\n",
      "\t\tFILE: Number of large read operations=0\n",
      "\t\tFILE: Number of write operations=0\n",
      "\tMap-Reduce Framework\n",
      "\t\tMap input records=36\n",
      "\t\tMap output records=190\n",
      "\t\tMap output bytes=1625\n",
      "\t\tMap output materialized bytes=894\n",
      "\t\tInput split bytes=120\n",
      "\t\tCombine input records=190\n",
      "\t\tCombine output records=80\n",
      "\t\tReduce input groups=80\n",
      "\t\tReduce shuffle bytes=894\n",
      "\t\tReduce input records=80\n",
      "\t\tReduce output records=80\n",
      "\t\tSpilled Records=160\n",
      "\t\tShuffled Maps =1\n",
      "\t\tFailed Shuffles=0\n",
      "\t\tMerged Map outputs=1\n",
      "\t\tGC time elapsed (ms)=84\n",
      "\t\tTotal committed heap usage (bytes)=274866176\n",
      "\tShuffle Errors\n",
      "\t\tBAD_ID=0\n",
      "\t\tCONNECTION=0\n",
      "\t\tIO_ERROR=0\n",
      "\t\tWRONG_LENGTH=0\n",
      "\t\tWRONG_MAP=0\n",
      "\t\tWRONG_REDUCE=0\n",
      "\tFile Input Format Counters \n",
      "\t\tBytes Read=865\n",
      "\tFile Output Format Counters \n",
      "\t\tBytes Written=587\n"
     ]
    }
   ],
   "source": [
    "!${HADOOP_PATH}/bin/hadoop jar ${HADOOP_PATH}/share/hadoop/mapreduce/hadoop-mapreduce-examples-${HADOOP_VERSION}.jar wordcount \\\n",
    "                               ./resources/examples/newyorknewyork.txt ./output"
   ]
  },
  {
   "cell_type": "markdown",
   "metadata": {},
   "source": [
    "### Listing files in the output folder"
   ]
  },
  {
   "cell_type": "code",
   "execution_count": 11,
   "metadata": {},
   "outputs": [
    {
     "name": "stdout",
     "output_type": "stream",
     "text": [
      "part-r-00000  _SUCCESS\n"
     ]
    }
   ],
   "source": [
    "!ls ./output/"
   ]
  },
  {
   "cell_type": "markdown",
   "metadata": {},
   "source": [
    "### Reading output file"
   ]
  },
  {
   "cell_type": "code",
   "execution_count": 12,
   "metadata": {},
   "outputs": [
    {
     "name": "stdout",
     "output_type": "stream",
     "text": [
      "And\t3\n",
      "Come\t1\n",
      "Head\t1\n",
      "I\t8\n",
      "I'll\t1\n",
      "I'm\t3\n",
      "If\t2\n",
      "In\t1\n",
      "It's\t1\n",
      "King\t1\n",
      "My\t1\n",
      "New\t13\n",
      "Right\t2\n",
      "Start\t1\n",
      "That\t2\n",
      "These\t2\n",
      "They\t3\n",
      "Top\t2\n",
      "York\t13\n",
      "You\t1\n",
      "a\t3\n",
      "about\t2\n",
      "all\t1\n",
      "am\t2\n",
      "anywhere\t2\n",
      "are\t3\n",
      "away\t2\n",
      "baby\t1\n",
      "be\t1\n",
      "bet\t1\n",
      "blues\t2\n",
      "brand\t2\n",
      "can\t2\n",
      "city\t2\n",
      "come\t1\n",
      "doesn't\t1\n",
      "find\t2\n",
      "gonna\t2\n",
      "have\t1\n",
      "heap\t2\n",
      "heart\t1\n",
      "hill\t3\n",
      "in\t3\n",
      "it\t8\n",
      "just\t1\n",
      "king\t2\n",
      "know\t1\n",
      "leaving\t1\n",
      "list\t1\n",
      "little\t2\n",
      "longing\t1\n",
      "make\t6\n",
      "melted\t1\n",
      "melting\t1\n",
      "never\t1\n",
      "new\t2\n",
      "news\t1\n",
      "of\t10\n",
      "old\t2\n",
      "on\t1\n",
      "part\t1\n",
      "shoes\t1\n",
      "sleep\t1\n",
      "sleeps\t1\n",
      "spreading\t1\n",
      "start\t2\n",
      "stray\t1\n",
      "that\t2\n",
      "the\t8\n",
      "there\t3\n",
      "through\t2\n",
      "to\t6\n",
      "today\t1\n",
      "town\t2\n",
      "up\t3\n",
      "vagabond\t1\n",
      "very\t1\n",
      "wake\t2\n",
      "want\t3\n",
      "you\t2\n"
     ]
    }
   ],
   "source": [
    "! cat ./output/part-r-00000"
   ]
  },
  {
   "cell_type": "markdown",
   "metadata": {
    "toc-hr-collapsed": false
   },
   "source": [
    "# Hadoop in Pseudo-Distributed Mode"
   ]
  },
  {
   "cell_type": "markdown",
   "metadata": {
    "toc-hr-collapsed": true
   },
   "source": [
    "## Preparing the environment"
   ]
  },
  {
   "cell_type": "markdown",
   "metadata": {},
   "source": [
    "### Starting sshd server\n",
    "\n",
    "Check `/binder/postBuild` and `/resources/configs/ssh/sshd_config` files for more details"
   ]
  },
  {
   "cell_type": "code",
   "execution_count": null,
   "metadata": {},
   "outputs": [],
   "source": [
    "!/usr/sbin/sshd -f resources/configs/ssh/sshd_config "
   ]
  },
  {
   "cell_type": "markdown",
   "metadata": {},
   "source": [
    "### Adding names to know hosts \n",
    "\n",
    "Commands below stablish ssh connections to used host names/ips. This step avoids yes/no host confirmation."
   ]
  },
  {
   "cell_type": "code",
   "execution_count": null,
   "metadata": {},
   "outputs": [],
   "source": [
    "!ssh -o \"StrictHostKeyChecking no\" $USER@localhost -p 8822 -C \"exit\" \n",
    "!ssh -o \"StrictHostKeyChecking no\" $USER@0.0.0.0   -p 8822 -C \"exit\""
   ]
  },
  {
   "cell_type": "markdown",
   "metadata": {},
   "source": [
    "### Adding ssh options to Hadoop via envvar\n",
    "\n",
    "* connecting in a diferent port (`-p 8822`)\n",
    "* avoiding host key checking (`-o StrictHostKeyChecking=no`)"
   ]
  },
  {
   "cell_type": "code",
   "execution_count": null,
   "metadata": {},
   "outputs": [],
   "source": [
    "%env HADOOP_SSH_OPTS= -o StrictHostKeyChecking=no -p 8822"
   ]
  },
  {
   "cell_type": "code",
   "execution_count": null,
   "metadata": {},
   "outputs": [],
   "source": [
    "%env PDSH_RCMD_TYPE ssh"
   ]
  },
  {
   "cell_type": "markdown",
   "metadata": {},
   "source": [
    "### Copying configurations files to Hadoop folder\n",
    "\n",
    "Check the configuration files accordingly to the Hadoop version. \n",
    "Refer to the `/resources/configs/hadoop/<version>`."
   ]
  },
  {
   "cell_type": "code",
   "execution_count": null,
   "metadata": {},
   "outputs": [],
   "source": [
    "!cp resources/configs/hadoop/${HADOOP_VERSION}/core-site.xml   ${HADOOP_PATH}/etc/hadoop/\n",
    "!cp resources/configs/hadoop/${HADOOP_VERSION}/hdfs-site.xml   ${HADOOP_PATH}/etc/hadoop/"
   ]
  },
  {
   "cell_type": "markdown",
   "metadata": {
    "toc-hr-collapsed": true
   },
   "source": [
    "## Formatting the filesystem"
   ]
  },
  {
   "cell_type": "code",
   "execution_count": null,
   "metadata": {},
   "outputs": [],
   "source": [
    "!${HADOOP_PATH}/bin/hdfs namenode -format -force -nonInteractive"
   ]
  },
  {
   "cell_type": "markdown",
   "metadata": {},
   "source": [
    "## Starting DFS (NameNode, SecondaryNameNode, and DataNode daemons)"
   ]
  },
  {
   "cell_type": "code",
   "execution_count": null,
   "metadata": {},
   "outputs": [],
   "source": [
    "!${HADOOP_PATH}/sbin/start-dfs.sh\n",
    "!jps"
   ]
  },
  {
   "cell_type": "markdown",
   "metadata": {
    "toc-hr-collapsed": true
   },
   "source": [
    "## MapReduce - Word count example "
   ]
  },
  {
   "cell_type": "markdown",
   "metadata": {},
   "source": [
    "### Creating folders in the distributed file system"
   ]
  },
  {
   "cell_type": "code",
   "execution_count": null,
   "metadata": {},
   "outputs": [],
   "source": [
    "!${HADOOP_PATH}/bin/hdfs dfs -mkdir /user/\n",
    "!${HADOOP_PATH}/bin/hdfs dfs -mkdir /user/matheus/\n",
    "!${HADOOP_PATH}/bin/hdfs dfs -mkdir /user/matheus/input/"
   ]
  },
  {
   "cell_type": "markdown",
   "metadata": {},
   "source": [
    "### Copying a file to a folder in the distributed file system"
   ]
  },
  {
   "cell_type": "code",
   "execution_count": null,
   "metadata": {},
   "outputs": [],
   "source": [
    "!${HADOOP_PATH}/bin/hdfs dfs -put ./resources/examples/newyorknewyork.txt /user/matheus/input/"
   ]
  },
  {
   "cell_type": "markdown",
   "metadata": {},
   "source": [
    "### Listing files in a folder of the distributed file system"
   ]
  },
  {
   "cell_type": "code",
   "execution_count": null,
   "metadata": {},
   "outputs": [],
   "source": [
    "!${HADOOP_PATH}/bin/hdfs dfs -ls /user/matheus/input/"
   ]
  },
  {
   "cell_type": "markdown",
   "metadata": {},
   "source": [
    "### Retrieving the contents of a file in the distributed file system"
   ]
  },
  {
   "cell_type": "code",
   "execution_count": null,
   "metadata": {},
   "outputs": [],
   "source": [
    "!${HADOOP_PATH}/bin/hdfs dfs -cat /user/matheus/input/newyorknewyork.txt"
   ]
  },
  {
   "cell_type": "markdown",
   "metadata": {
    "toc-hr-collapsed": true
   },
   "source": [
    "### Running MapReduce job in Pseudo-Distributed Mode"
   ]
  },
  {
   "cell_type": "code",
   "execution_count": null,
   "metadata": {},
   "outputs": [],
   "source": [
    "!./${HADOOP_PATH}/bin/hadoop jar  ./${HADOOP_PATH}/share/hadoop/mapreduce/hadoop-mapreduce-examples-${HADOOP_VERSION}.jar wordcount \\\n",
    "                                /user/matheus/input /user/matheus/output"
   ]
  },
  {
   "cell_type": "markdown",
   "metadata": {},
   "source": [
    "### Listing files in the output folder"
   ]
  },
  {
   "cell_type": "code",
   "execution_count": null,
   "metadata": {},
   "outputs": [],
   "source": [
    "!./${HADOOP_PATH}/bin/hdfs dfs -ls /user/matheus/output/"
   ]
  },
  {
   "cell_type": "markdown",
   "metadata": {},
   "source": [
    "### Reading output file"
   ]
  },
  {
   "cell_type": "code",
   "execution_count": null,
   "metadata": {},
   "outputs": [],
   "source": [
    "!./${HADOOP_PATH}/bin/hdfs dfs -cat /user/matheus/output/part-r-00000"
   ]
  },
  {
   "cell_type": "markdown",
   "metadata": {
    "toc-hr-collapsed": false
   },
   "source": [
    "# Starting YARN in Pseudo-Distributed Mode"
   ]
  },
  {
   "cell_type": "markdown",
   "metadata": {
    "toc-hr-collapsed": true
   },
   "source": [
    "## Preparing the environment"
   ]
  },
  {
   "cell_type": "markdown",
   "metadata": {},
   "source": [
    "### Copying configurations files to Hadoop folder"
   ]
  },
  {
   "cell_type": "code",
   "execution_count": null,
   "metadata": {},
   "outputs": [],
   "source": [
    "!cp resources/configs/hadoop/${HADOOP_VERSION}/mapred-site.xml ${HADOOP_PATH}/etc/hadoop/\n",
    "!cp resources/configs/hadoop/${HADOOP_VERSION}/yarn-site.xml   ${HADOOP_PATH}/etc/hadoop/"
   ]
  },
  {
   "cell_type": "markdown",
   "metadata": {},
   "source": [
    "## Starting YARN"
   ]
  },
  {
   "cell_type": "code",
   "execution_count": null,
   "metadata": {},
   "outputs": [],
   "source": [
    "!${HADOOP_PATH}/sbin/start-yarn.sh\n",
    "!jps"
   ]
  },
  {
   "cell_type": "markdown",
   "metadata": {
    "toc-hr-collapsed": true
   },
   "source": [
    "## MapReduce via YARN - Word count example "
   ]
  },
  {
   "cell_type": "code",
   "execution_count": null,
   "metadata": {},
   "outputs": [],
   "source": [
    "!./${HADOOP_PATH}/bin/yarn jar  ./${HADOOP_PATH}/share/hadoop/mapreduce/hadoop-mapreduce-examples-${HADOOP_VERSION}.jar wordcount \\\n",
    "                                /user/matheus/input /user/matheus/output2"
   ]
  },
  {
   "cell_type": "markdown",
   "metadata": {},
   "source": [
    "### Listing files in the output folder"
   ]
  },
  {
   "cell_type": "code",
   "execution_count": null,
   "metadata": {},
   "outputs": [],
   "source": [
    "!./${HADOOP_PATH}/bin/hdfs dfs -ls /user/matheus/output2/"
   ]
  },
  {
   "cell_type": "markdown",
   "metadata": {
    "toc-hr-collapsed": true
   },
   "source": [
    "### Reading output file"
   ]
  },
  {
   "cell_type": "code",
   "execution_count": null,
   "metadata": {},
   "outputs": [],
   "source": [
    "!./${HADOOP_PATH}/bin/hdfs dfs -cat /user/matheus/output2/part-r-00000"
   ]
  }
 ],
 "metadata": {
  "kernelspec": {
   "display_name": "Python 3 (ipykernel)",
   "language": "python",
   "name": "python3"
  },
  "language_info": {
   "codemirror_mode": {
    "name": "ipython",
    "version": 3
   },
   "file_extension": ".py",
   "mimetype": "text/x-python",
   "name": "python",
   "nbconvert_exporter": "python",
   "pygments_lexer": "ipython3",
   "version": "3.7.10"
  },
  "toc-autonumbering": true,
  "toc-showtags": false
 },
 "nbformat": 4,
 "nbformat_minor": 4
}
